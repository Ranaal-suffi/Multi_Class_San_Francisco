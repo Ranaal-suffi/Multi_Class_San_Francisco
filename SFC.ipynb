{
 "cells": [
  {
   "cell_type": "code",
   "execution_count": 1,
   "id": "c487b59c-4752-4cd9-9aac-c26b2fa4297c",
   "metadata": {
    "tags": []
   },
   "outputs": [],
   "source": [
    "import numpy as np\n",
    "import pandas as pd\n",
    "import xgboost as xgb\n",
    "from sklearn.model_selection import train_test_split\n",
    "from sklearn.metrics import accuracy_score\n",
    "import matplotlib.pyplot as plt\n",
    "import seaborn as sns\n",
    "from sklearn.preprocessing import LabelEncoder\n",
    "from sklearn.metrics import accuracy_score\n",
    "from sklearn.preprocessing import LabelEncoder\n",
    "from sklearn.preprocessing import MinMaxScaler\n",
    "from sklearn.preprocessing import StandardScaler"
   ]
  },
  {
   "cell_type": "code",
   "execution_count": 2,
   "id": "84251f16-4a63-48ad-b153-553dcf8a655e",
   "metadata": {
    "tags": []
   },
   "outputs": [
    {
     "data": {
      "text/html": [
       "<div>\n",
       "<style scoped>\n",
       "    .dataframe tbody tr th:only-of-type {\n",
       "        vertical-align: middle;\n",
       "    }\n",
       "\n",
       "    .dataframe tbody tr th {\n",
       "        vertical-align: top;\n",
       "    }\n",
       "\n",
       "    .dataframe thead th {\n",
       "        text-align: right;\n",
       "    }\n",
       "</style>\n",
       "<table border=\"1\" class=\"dataframe\">\n",
       "  <thead>\n",
       "    <tr style=\"text-align: right;\">\n",
       "      <th></th>\n",
       "      <th>Dates</th>\n",
       "      <th>Category</th>\n",
       "      <th>Descript</th>\n",
       "      <th>DayOfWeek</th>\n",
       "      <th>PdDistrict</th>\n",
       "      <th>Resolution</th>\n",
       "      <th>Address</th>\n",
       "      <th>X</th>\n",
       "      <th>Y</th>\n",
       "    </tr>\n",
       "  </thead>\n",
       "  <tbody>\n",
       "    <tr>\n",
       "      <th>0</th>\n",
       "      <td>2015-05-13 23:53:00</td>\n",
       "      <td>WARRANTS</td>\n",
       "      <td>WARRANT ARREST</td>\n",
       "      <td>Wednesday</td>\n",
       "      <td>NORTHERN</td>\n",
       "      <td>ARREST, BOOKED</td>\n",
       "      <td>OAK ST / LAGUNA ST</td>\n",
       "      <td>-122.425892</td>\n",
       "      <td>37.774599</td>\n",
       "    </tr>\n",
       "    <tr>\n",
       "      <th>1</th>\n",
       "      <td>2015-05-13 23:53:00</td>\n",
       "      <td>OTHER OFFENSES</td>\n",
       "      <td>TRAFFIC VIOLATION ARREST</td>\n",
       "      <td>Wednesday</td>\n",
       "      <td>NORTHERN</td>\n",
       "      <td>ARREST, BOOKED</td>\n",
       "      <td>OAK ST / LAGUNA ST</td>\n",
       "      <td>-122.425892</td>\n",
       "      <td>37.774599</td>\n",
       "    </tr>\n",
       "    <tr>\n",
       "      <th>2</th>\n",
       "      <td>2015-05-13 23:33:00</td>\n",
       "      <td>OTHER OFFENSES</td>\n",
       "      <td>TRAFFIC VIOLATION ARREST</td>\n",
       "      <td>Wednesday</td>\n",
       "      <td>NORTHERN</td>\n",
       "      <td>ARREST, BOOKED</td>\n",
       "      <td>VANNESS AV / GREENWICH ST</td>\n",
       "      <td>-122.424363</td>\n",
       "      <td>37.800414</td>\n",
       "    </tr>\n",
       "    <tr>\n",
       "      <th>3</th>\n",
       "      <td>2015-05-13 23:30:00</td>\n",
       "      <td>LARCENY/THEFT</td>\n",
       "      <td>GRAND THEFT FROM LOCKED AUTO</td>\n",
       "      <td>Wednesday</td>\n",
       "      <td>NORTHERN</td>\n",
       "      <td>NONE</td>\n",
       "      <td>1500 Block of LOMBARD ST</td>\n",
       "      <td>-122.426995</td>\n",
       "      <td>37.800873</td>\n",
       "    </tr>\n",
       "    <tr>\n",
       "      <th>4</th>\n",
       "      <td>2015-05-13 23:30:00</td>\n",
       "      <td>LARCENY/THEFT</td>\n",
       "      <td>GRAND THEFT FROM LOCKED AUTO</td>\n",
       "      <td>Wednesday</td>\n",
       "      <td>PARK</td>\n",
       "      <td>NONE</td>\n",
       "      <td>100 Block of BRODERICK ST</td>\n",
       "      <td>-122.438738</td>\n",
       "      <td>37.771541</td>\n",
       "    </tr>\n",
       "  </tbody>\n",
       "</table>\n",
       "</div>"
      ],
      "text/plain": [
       "                 Dates        Category                      Descript  \\\n",
       "0  2015-05-13 23:53:00        WARRANTS                WARRANT ARREST   \n",
       "1  2015-05-13 23:53:00  OTHER OFFENSES      TRAFFIC VIOLATION ARREST   \n",
       "2  2015-05-13 23:33:00  OTHER OFFENSES      TRAFFIC VIOLATION ARREST   \n",
       "3  2015-05-13 23:30:00   LARCENY/THEFT  GRAND THEFT FROM LOCKED AUTO   \n",
       "4  2015-05-13 23:30:00   LARCENY/THEFT  GRAND THEFT FROM LOCKED AUTO   \n",
       "\n",
       "   DayOfWeek PdDistrict      Resolution                    Address  \\\n",
       "0  Wednesday   NORTHERN  ARREST, BOOKED         OAK ST / LAGUNA ST   \n",
       "1  Wednesday   NORTHERN  ARREST, BOOKED         OAK ST / LAGUNA ST   \n",
       "2  Wednesday   NORTHERN  ARREST, BOOKED  VANNESS AV / GREENWICH ST   \n",
       "3  Wednesday   NORTHERN            NONE   1500 Block of LOMBARD ST   \n",
       "4  Wednesday       PARK            NONE  100 Block of BRODERICK ST   \n",
       "\n",
       "            X          Y  \n",
       "0 -122.425892  37.774599  \n",
       "1 -122.425892  37.774599  \n",
       "2 -122.424363  37.800414  \n",
       "3 -122.426995  37.800873  \n",
       "4 -122.438738  37.771541  "
      ]
     },
     "execution_count": 2,
     "metadata": {},
     "output_type": "execute_result"
    }
   ],
   "source": [
    "df_train= pd.read_csv('train.csv')\n",
    "df_train.head()"
   ]
  },
  {
   "cell_type": "code",
   "execution_count": 3,
   "id": "fda5333f-7b29-4fcf-9245-97ae4f47fc95",
   "metadata": {
    "tags": []
   },
   "outputs": [
    {
     "data": {
      "text/plain": [
       "(878049, 9)"
      ]
     },
     "execution_count": 3,
     "metadata": {},
     "output_type": "execute_result"
    }
   ],
   "source": [
    "df_train.shape"
   ]
  },
  {
   "cell_type": "code",
   "execution_count": 4,
   "id": "c3e6c6a0-3535-43c5-9ef3-604b821a3c8c",
   "metadata": {
    "tags": []
   },
   "outputs": [
    {
     "name": "stdout",
     "output_type": "stream",
     "text": [
      "<class 'pandas.core.frame.DataFrame'>\n",
      "RangeIndex: 878049 entries, 0 to 878048\n",
      "Data columns (total 9 columns):\n",
      " #   Column      Non-Null Count   Dtype  \n",
      "---  ------      --------------   -----  \n",
      " 0   Dates       878049 non-null  object \n",
      " 1   Category    878049 non-null  object \n",
      " 2   Descript    878049 non-null  object \n",
      " 3   DayOfWeek   878049 non-null  object \n",
      " 4   PdDistrict  878049 non-null  object \n",
      " 5   Resolution  878049 non-null  object \n",
      " 6   Address     878049 non-null  object \n",
      " 7   X           878049 non-null  float64\n",
      " 8   Y           878049 non-null  float64\n",
      "dtypes: float64(2), object(7)\n",
      "memory usage: 60.3+ MB\n"
     ]
    }
   ],
   "source": [
    "df_train.info()"
   ]
  },
  {
   "cell_type": "code",
   "execution_count": 5,
   "id": "74bb1720-08d7-4bb5-b965-48ac6ae87135",
   "metadata": {
    "tags": []
   },
   "outputs": [
    {
     "data": {
      "text/plain": [
       "2323"
      ]
     },
     "execution_count": 5,
     "metadata": {},
     "output_type": "execute_result"
    }
   ],
   "source": [
    "#check for duplicated values\n",
    "df_train.duplicated().sum()"
   ]
  },
  {
   "cell_type": "code",
   "execution_count": 6,
   "id": "49e89c70-b797-420c-bc51-70d4481d9c13",
   "metadata": {
    "tags": []
   },
   "outputs": [
    {
     "data": {
      "text/plain": [
       "(875726, 9)"
      ]
     },
     "execution_count": 6,
     "metadata": {},
     "output_type": "execute_result"
    }
   ],
   "source": [
    "#drop duplicated values\n",
    "df_train.drop_duplicates(keep = 'first', inplace = True)\n",
    "df_train.shape"
   ]
  },
  {
   "cell_type": "code",
   "execution_count": 7,
   "id": "fea2c0cd-c702-4548-af34-2f764845038b",
   "metadata": {
    "tags": []
   },
   "outputs": [
    {
     "data": {
      "text/plain": [
       "Index(['Dates', 'Category', 'Descript', 'DayOfWeek', 'PdDistrict',\n",
       "       'Resolution', 'Address', 'X', 'Y'],\n",
       "      dtype='object')"
      ]
     },
     "execution_count": 7,
     "metadata": {},
     "output_type": "execute_result"
    }
   ],
   "source": [
    "df_train.columns"
   ]
  },
  {
   "cell_type": "code",
   "execution_count": 8,
   "id": "4d0447ea-fda2-4181-9ef4-1f82bebb28fa",
   "metadata": {
    "tags": []
   },
   "outputs": [
    {
     "data": {
      "text/plain": [
       "Dates         389257\n",
       "Category          39\n",
       "Descript         879\n",
       "DayOfWeek          7\n",
       "PdDistrict        10\n",
       "Resolution        17\n",
       "Address        23228\n",
       "X              34243\n",
       "Y              34243\n",
       "dtype: int64"
      ]
     },
     "execution_count": 8,
     "metadata": {},
     "output_type": "execute_result"
    }
   ],
   "source": [
    "df_train.nunique()"
   ]
  },
  {
   "cell_type": "code",
   "execution_count": 9,
   "id": "56d4b059-b8b9-44db-a7e5-94b27dbd1844",
   "metadata": {
    "tags": []
   },
   "outputs": [
    {
     "data": {
      "text/plain": [
       "Category\n",
       "LARCENY/THEFT                  174320\n",
       "OTHER OFFENSES                 125960\n",
       "NON-CRIMINAL                    91915\n",
       "ASSAULT                         76815\n",
       "DRUG/NARCOTIC                   53919\n",
       "VEHICLE THEFT                   53706\n",
       "VANDALISM                       44581\n",
       "WARRANTS                        42145\n",
       "BURGLARY                        36600\n",
       "SUSPICIOUS OCC                  31394\n",
       "MISSING PERSON                  25669\n",
       "ROBBERY                         22988\n",
       "FRAUD                           16637\n",
       "FORGERY/COUNTERFEITING          10592\n",
       "SECONDARY CODES                  9979\n",
       "WEAPON LAWS                      8550\n",
       "PROSTITUTION                     7446\n",
       "TRESPASS                         7318\n",
       "STOLEN PROPERTY                  4537\n",
       "SEX OFFENSES FORCIBLE            4380\n",
       "DISORDERLY CONDUCT               4313\n",
       "DRUNKENNESS                      4277\n",
       "RECOVERED VEHICLE                3132\n",
       "KIDNAPPING                       2340\n",
       "DRIVING UNDER THE INFLUENCE      2268\n",
       "LIQUOR LAWS                      1899\n",
       "RUNAWAY                          1894\n",
       "ARSON                            1512\n",
       "LOITERING                        1207\n",
       "EMBEZZLEMENT                     1164\n",
       "SUICIDE                           508\n",
       "FAMILY OFFENSES                   488\n",
       "BAD CHECKS                        406\n",
       "BRIBERY                           289\n",
       "EXTORTION                         256\n",
       "SEX OFFENSES NON FORCIBLE         148\n",
       "GAMBLING                          146\n",
       "PORNOGRAPHY/OBSCENE MAT            22\n",
       "TREA                                6\n",
       "Name: count, dtype: int64"
      ]
     },
     "execution_count": 9,
     "metadata": {},
     "output_type": "execute_result"
    }
   ],
   "source": [
    "df_train.Category.value_counts()"
   ]
  },
  {
   "cell_type": "code",
   "execution_count": 10,
   "id": "a4327154-4f03-4287-b206-3f81748eb88a",
   "metadata": {
    "tags": []
   },
   "outputs": [
    {
     "data": {
      "text/plain": [
       "Resolution\n",
       "NONE                                      525122\n",
       "ARREST, BOOKED                            206173\n",
       "ARREST, CITED                              76832\n",
       "LOCATED                                    16889\n",
       "PSYCHOPATHIC CASE                          14529\n",
       "UNFOUNDED                                   9577\n",
       "JUVENILE BOOKED                             5564\n",
       "COMPLAINANT REFUSES TO PROSECUTE            3969\n",
       "DISTRICT ATTORNEY REFUSES TO PROSECUTE      3934\n",
       "NOT PROSECUTED                              3710\n",
       "JUVENILE CITED                              3322\n",
       "PROSECUTED BY OUTSIDE AGENCY                2503\n",
       "EXCEPTIONAL CLEARANCE                       1528\n",
       "JUVENILE ADMONISHED                         1451\n",
       "JUVENILE DIVERTED                            355\n",
       "CLEARED-CONTACT JUVENILE FOR MORE INFO       217\n",
       "PROSECUTED FOR LESSER OFFENSE                 51\n",
       "Name: count, dtype: int64"
      ]
     },
     "execution_count": 10,
     "metadata": {},
     "output_type": "execute_result"
    }
   ],
   "source": [
    "df_train.Resolution.value_counts()"
   ]
  },
  {
   "cell_type": "code",
   "execution_count": 11,
   "id": "55e57c52-bd30-4ed5-9cd8-2d32323469b2",
   "metadata": {
    "tags": []
   },
   "outputs": [
    {
     "data": {
      "text/plain": [
       "Category         object\n",
       "Descript         object\n",
       "PdDistrict       object\n",
       "Resolution       object\n",
       "Address          object\n",
       "X               float64\n",
       "Y               float64\n",
       "year              int32\n",
       "month             int32\n",
       "day_of_month      int32\n",
       "day_of_week       int32\n",
       "hour              int32\n",
       "dtype: object"
      ]
     },
     "execution_count": 11,
     "metadata": {},
     "output_type": "execute_result"
    }
   ],
   "source": [
    "df_train['Dates'] = pd.to_datetime(df_train['Dates'])\n",
    "\n",
    "df_train['year'] = df_train['Dates'].dt.year\n",
    "df_train['month'] = df_train['Dates'].dt.month\n",
    "df_train['day_of_month'] = df_train['Dates'].dt.day\n",
    "df_train['day_of_week'] = df_train['Dates'].dt.day_of_week\n",
    "df_train['hour'] = df_train['Dates'].dt.hour\n",
    "df_train.drop(['Dates', 'DayOfWeek'], axis = 1, inplace = True)\n",
    "df_train.dtypes"
   ]
  },
  {
   "cell_type": "code",
   "execution_count": 12,
   "id": "cfc18e7a-9884-45c0-a161-d88af60cffe0",
   "metadata": {
    "tags": []
   },
   "outputs": [],
   "source": [
    "df_train.columns = [item.lower() for item in df_train.columns]"
   ]
  },
  {
   "cell_type": "code",
   "execution_count": 13,
   "id": "bed7c212-9216-4c7e-84df-02c88d738a3a",
   "metadata": {
    "tags": []
   },
   "outputs": [
    {
     "data": {
      "text/html": [
       "<div>\n",
       "<style scoped>\n",
       "    .dataframe tbody tr th:only-of-type {\n",
       "        vertical-align: middle;\n",
       "    }\n",
       "\n",
       "    .dataframe tbody tr th {\n",
       "        vertical-align: top;\n",
       "    }\n",
       "\n",
       "    .dataframe thead th {\n",
       "        text-align: right;\n",
       "    }\n",
       "</style>\n",
       "<table border=\"1\" class=\"dataframe\">\n",
       "  <thead>\n",
       "    <tr style=\"text-align: right;\">\n",
       "      <th>category</th>\n",
       "      <th>ARSON</th>\n",
       "      <th>ASSAULT</th>\n",
       "      <th>BAD CHECKS</th>\n",
       "      <th>BRIBERY</th>\n",
       "      <th>BURGLARY</th>\n",
       "      <th>DISORDERLY CONDUCT</th>\n",
       "      <th>DRIVING UNDER THE INFLUENCE</th>\n",
       "      <th>DRUG/NARCOTIC</th>\n",
       "      <th>DRUNKENNESS</th>\n",
       "      <th>EMBEZZLEMENT</th>\n",
       "      <th>...</th>\n",
       "      <th>SEX OFFENSES NON FORCIBLE</th>\n",
       "      <th>STOLEN PROPERTY</th>\n",
       "      <th>SUICIDE</th>\n",
       "      <th>SUSPICIOUS OCC</th>\n",
       "      <th>TREA</th>\n",
       "      <th>TRESPASS</th>\n",
       "      <th>VANDALISM</th>\n",
       "      <th>VEHICLE THEFT</th>\n",
       "      <th>WARRANTS</th>\n",
       "      <th>WEAPON LAWS</th>\n",
       "    </tr>\n",
       "    <tr>\n",
       "      <th>day_of_week</th>\n",
       "      <th></th>\n",
       "      <th></th>\n",
       "      <th></th>\n",
       "      <th></th>\n",
       "      <th></th>\n",
       "      <th></th>\n",
       "      <th></th>\n",
       "      <th></th>\n",
       "      <th></th>\n",
       "      <th></th>\n",
       "      <th></th>\n",
       "      <th></th>\n",
       "      <th></th>\n",
       "      <th></th>\n",
       "      <th></th>\n",
       "      <th></th>\n",
       "      <th></th>\n",
       "      <th></th>\n",
       "      <th></th>\n",
       "      <th></th>\n",
       "      <th></th>\n",
       "    </tr>\n",
       "  </thead>\n",
       "  <tbody>\n",
       "    <tr>\n",
       "      <th>0</th>\n",
       "      <td>228</td>\n",
       "      <td>10550</td>\n",
       "      <td>66</td>\n",
       "      <td>41</td>\n",
       "      <td>5239</td>\n",
       "      <td>607</td>\n",
       "      <td>263</td>\n",
       "      <td>7812</td>\n",
       "      <td>512</td>\n",
       "      <td>222</td>\n",
       "      <td>...</td>\n",
       "      <td>23</td>\n",
       "      <td>636</td>\n",
       "      <td>75</td>\n",
       "      <td>4445</td>\n",
       "      <td>1</td>\n",
       "      <td>1080</td>\n",
       "      <td>5916</td>\n",
       "      <td>7401</td>\n",
       "      <td>5804</td>\n",
       "      <td>1182</td>\n",
       "    </tr>\n",
       "    <tr>\n",
       "      <th>1</th>\n",
       "      <td>235</td>\n",
       "      <td>10268</td>\n",
       "      <td>76</td>\n",
       "      <td>37</td>\n",
       "      <td>5356</td>\n",
       "      <td>657</td>\n",
       "      <td>251</td>\n",
       "      <td>8463</td>\n",
       "      <td>461</td>\n",
       "      <td>156</td>\n",
       "      <td>...</td>\n",
       "      <td>23</td>\n",
       "      <td>713</td>\n",
       "      <td>66</td>\n",
       "      <td>4513</td>\n",
       "      <td>1</td>\n",
       "      <td>1113</td>\n",
       "      <td>5844</td>\n",
       "      <td>7262</td>\n",
       "      <td>6412</td>\n",
       "      <td>1176</td>\n",
       "    </tr>\n",
       "    <tr>\n",
       "      <th>2</th>\n",
       "      <td>200</td>\n",
       "      <td>10549</td>\n",
       "      <td>71</td>\n",
       "      <td>40</td>\n",
       "      <td>5430</td>\n",
       "      <td>658</td>\n",
       "      <td>221</td>\n",
       "      <td>9259</td>\n",
       "      <td>541</td>\n",
       "      <td>165</td>\n",
       "      <td>...</td>\n",
       "      <td>22</td>\n",
       "      <td>699</td>\n",
       "      <td>66</td>\n",
       "      <td>4849</td>\n",
       "      <td>0</td>\n",
       "      <td>1120</td>\n",
       "      <td>5904</td>\n",
       "      <td>7393</td>\n",
       "      <td>7009</td>\n",
       "      <td>1251</td>\n",
       "    </tr>\n",
       "    <tr>\n",
       "      <th>3</th>\n",
       "      <td>199</td>\n",
       "      <td>10236</td>\n",
       "      <td>66</td>\n",
       "      <td>39</td>\n",
       "      <td>5336</td>\n",
       "      <td>643</td>\n",
       "      <td>282</td>\n",
       "      <td>8447</td>\n",
       "      <td>496</td>\n",
       "      <td>165</td>\n",
       "      <td>...</td>\n",
       "      <td>15</td>\n",
       "      <td>678</td>\n",
       "      <td>89</td>\n",
       "      <td>4504</td>\n",
       "      <td>1</td>\n",
       "      <td>1046</td>\n",
       "      <td>5968</td>\n",
       "      <td>7449</td>\n",
       "      <td>6365</td>\n",
       "      <td>1281</td>\n",
       "    </tr>\n",
       "    <tr>\n",
       "      <th>4</th>\n",
       "      <td>220</td>\n",
       "      <td>11155</td>\n",
       "      <td>62</td>\n",
       "      <td>49</td>\n",
       "      <td>6302</td>\n",
       "      <td>540</td>\n",
       "      <td>352</td>\n",
       "      <td>7415</td>\n",
       "      <td>621</td>\n",
       "      <td>211</td>\n",
       "      <td>...</td>\n",
       "      <td>28</td>\n",
       "      <td>647</td>\n",
       "      <td>72</td>\n",
       "      <td>4921</td>\n",
       "      <td>1</td>\n",
       "      <td>1062</td>\n",
       "      <td>7071</td>\n",
       "      <td>8597</td>\n",
       "      <td>5921</td>\n",
       "      <td>1302</td>\n",
       "    </tr>\n",
       "    <tr>\n",
       "      <th>5</th>\n",
       "      <td>219</td>\n",
       "      <td>11987</td>\n",
       "      <td>45</td>\n",
       "      <td>42</td>\n",
       "      <td>4732</td>\n",
       "      <td>624</td>\n",
       "      <td>457</td>\n",
       "      <td>6385</td>\n",
       "      <td>833</td>\n",
       "      <td>137</td>\n",
       "      <td>...</td>\n",
       "      <td>21</td>\n",
       "      <td>581</td>\n",
       "      <td>73</td>\n",
       "      <td>4154</td>\n",
       "      <td>2</td>\n",
       "      <td>982</td>\n",
       "      <td>7301</td>\n",
       "      <td>8108</td>\n",
       "      <td>5355</td>\n",
       "      <td>1231</td>\n",
       "    </tr>\n",
       "    <tr>\n",
       "      <th>6</th>\n",
       "      <td>211</td>\n",
       "      <td>12070</td>\n",
       "      <td>20</td>\n",
       "      <td>41</td>\n",
       "      <td>4205</td>\n",
       "      <td>584</td>\n",
       "      <td>442</td>\n",
       "      <td>6138</td>\n",
       "      <td>813</td>\n",
       "      <td>108</td>\n",
       "      <td>...</td>\n",
       "      <td>16</td>\n",
       "      <td>583</td>\n",
       "      <td>67</td>\n",
       "      <td>4008</td>\n",
       "      <td>0</td>\n",
       "      <td>915</td>\n",
       "      <td>6577</td>\n",
       "      <td>7496</td>\n",
       "      <td>5279</td>\n",
       "      <td>1127</td>\n",
       "    </tr>\n",
       "  </tbody>\n",
       "</table>\n",
       "<p>7 rows × 39 columns</p>\n",
       "</div>"
      ],
      "text/plain": [
       "category     ARSON  ASSAULT  BAD CHECKS  BRIBERY  BURGLARY  \\\n",
       "day_of_week                                                  \n",
       "0              228    10550          66       41      5239   \n",
       "1              235    10268          76       37      5356   \n",
       "2              200    10549          71       40      5430   \n",
       "3              199    10236          66       39      5336   \n",
       "4              220    11155          62       49      6302   \n",
       "5              219    11987          45       42      4732   \n",
       "6              211    12070          20       41      4205   \n",
       "\n",
       "category     DISORDERLY CONDUCT  DRIVING UNDER THE INFLUENCE  DRUG/NARCOTIC  \\\n",
       "day_of_week                                                                   \n",
       "0                           607                          263           7812   \n",
       "1                           657                          251           8463   \n",
       "2                           658                          221           9259   \n",
       "3                           643                          282           8447   \n",
       "4                           540                          352           7415   \n",
       "5                           624                          457           6385   \n",
       "6                           584                          442           6138   \n",
       "\n",
       "category     DRUNKENNESS  EMBEZZLEMENT  ...  SEX OFFENSES NON FORCIBLE  \\\n",
       "day_of_week                             ...                              \n",
       "0                    512           222  ...                         23   \n",
       "1                    461           156  ...                         23   \n",
       "2                    541           165  ...                         22   \n",
       "3                    496           165  ...                         15   \n",
       "4                    621           211  ...                         28   \n",
       "5                    833           137  ...                         21   \n",
       "6                    813           108  ...                         16   \n",
       "\n",
       "category     STOLEN PROPERTY  SUICIDE  SUSPICIOUS OCC  TREA  TRESPASS  \\\n",
       "day_of_week                                                             \n",
       "0                        636       75            4445     1      1080   \n",
       "1                        713       66            4513     1      1113   \n",
       "2                        699       66            4849     0      1120   \n",
       "3                        678       89            4504     1      1046   \n",
       "4                        647       72            4921     1      1062   \n",
       "5                        581       73            4154     2       982   \n",
       "6                        583       67            4008     0       915   \n",
       "\n",
       "category     VANDALISM  VEHICLE THEFT  WARRANTS  WEAPON LAWS  \n",
       "day_of_week                                                   \n",
       "0                 5916           7401      5804         1182  \n",
       "1                 5844           7262      6412         1176  \n",
       "2                 5904           7393      7009         1251  \n",
       "3                 5968           7449      6365         1281  \n",
       "4                 7071           8597      5921         1302  \n",
       "5                 7301           8108      5355         1231  \n",
       "6                 6577           7496      5279         1127  \n",
       "\n",
       "[7 rows x 39 columns]"
      ]
     },
     "execution_count": 13,
     "metadata": {},
     "output_type": "execute_result"
    }
   ],
   "source": [
    "pd.crosstab(df_train['day_of_week'], df_train['category'])"
   ]
  },
  {
   "cell_type": "code",
   "execution_count": 14,
   "id": "a740eeaa-ee05-45e8-a5e0-5519c256e882",
   "metadata": {
    "tags": []
   },
   "outputs": [
    {
     "data": {
      "text/plain": [
       "Index(['category', 'descript', 'pddistrict', 'resolution', 'address', 'x', 'y',\n",
       "       'year', 'month', 'day_of_month', 'day_of_week', 'hour'],\n",
       "      dtype='object')"
      ]
     },
     "execution_count": 14,
     "metadata": {},
     "output_type": "execute_result"
    }
   ],
   "source": [
    "df_train.columns"
   ]
  },
  {
   "cell_type": "code",
   "execution_count": 15,
   "id": "10b3a64c-9e31-44b3-ab7c-7d07075c570a",
   "metadata": {
    "tags": []
   },
   "outputs": [
    {
     "data": {
      "image/png": "[encoded data removed]",
      "text/plain": [
       "<Figure size 1500x500 with 1 Axes>"
      ]
     },
     "metadata": {},
     "output_type": "display_data"
    }
   ],
   "source": [
    "category_count = df_train.category.value_counts().to_frame().reset_index()\n",
    "top5category = category_count.iloc[:5] \n",
    "# print(top5category)\n",
    "\n",
    "df_cat = df_train.hour.value_counts().to_frame().sort_index()\n",
    "plt.figure(figsize = (15, 5))\n",
    "plt.plot(df_cat)\n",
    "\n",
    "for item in top5category.index:\n",
    "    df_cat = df_train[df_train.category == top5category.iloc[item].category].hour.value_counts().to_frame().sort_index()\n",
    "    plt.plot(df_cat)\n",
    "plt.legend(['All Categories'] + list(top5category.category))\n",
    "plt.xlabel('hour')\n",
    "_ = plt.ylabel('count')"
   ]
  },
  {
   "cell_type": "code",
   "execution_count": 16,
   "id": "12d220e7-b379-4c3c-9207-d2495e0692e9",
   "metadata": {
    "tags": []
   },
   "outputs": [
    {
     "data": {
      "image/png": "[encoded data removed]",
      "text/plain": [
       "<Figure size 1500x500 with 1 Axes>"
      ]
     },
     "metadata": {},
     "output_type": "display_data"
    }
   ],
   "source": [
    "category_count = df_train.category.value_counts().to_frame().reset_index()\n",
    "top5category = category_count.iloc[:5] \n",
    "\n",
    "df_cat = df_train.year.value_counts().to_frame().sort_index()\n",
    "plt.figure(figsize = (15, 5))\n",
    "plt.plot(df_cat)\n",
    "\n",
    "for item in top5category.index:\n",
    "    df_cat = df_train[df_train.category == top5category.iloc[item].category].year.value_counts().to_frame().sort_index()\n",
    "    plt.plot(df_cat)\n",
    "plt.legend(['All Categories'] + list(top5category.category))\n",
    "plt.xlabel('year')\n",
    "_ = plt.ylabel('count')"
   ]
  },
  {
   "cell_type": "code",
   "execution_count": 17,
   "id": "768c7625-1faf-49e9-b8a6-76fea748234e",
   "metadata": {
    "tags": []
   },
   "outputs": [
    {
     "data": {
      "text/plain": [
       "<Axes: xlabel='pddistrict', ylabel='category'>"
      ]
     },
     "execution_count": 17,
     "metadata": {},
     "output_type": "execute_result"
    },
    {
     "data": {
      "image/png": "[encoded data removed]",
      "text/plain": [
       "<Figure size 1500x500 with 1 Axes>"
      ]
     },
     "metadata": {},
     "output_type": "display_data"
    }
   ],
   "source": [
    "df1 = df_train.groupby('pddistrict').count().reset_index()[['pddistrict', 'category']].sort_values('category', ascending = False)\n",
    "plt.figure(figsize = (15, 5))\n",
    "sns.barplot(x = 'pddistrict',y = 'category',data = df1, palette= 'Reds_r')"
   ]
  },
  {
   "cell_type": "markdown",
   "id": "aad9b9dc-f6fc-4a7e-8d21-3478bae7db44",
   "metadata": {},
   "source": [
    "Data preprocessing"
   ]
  },
  {
   "cell_type": "code",
   "execution_count": 27,
   "id": "b93ff98c-9ecd-491b-8af5-cbc454b9e05d",
   "metadata": {
    "tags": []
   },
   "outputs": [
    {
     "data": {
      "text/html": [
       "<div>\n",
       "<style scoped>\n",
       "    .dataframe tbody tr th:only-of-type {\n",
       "        vertical-align: middle;\n",
       "    }\n",
       "\n",
       "    .dataframe tbody tr th {\n",
       "        vertical-align: top;\n",
       "    }\n",
       "\n",
       "    .dataframe thead th {\n",
       "        text-align: right;\n",
       "    }\n",
       "</style>\n",
       "<table border=\"1\" class=\"dataframe\">\n",
       "  <thead>\n",
       "    <tr style=\"text-align: right;\">\n",
       "      <th></th>\n",
       "      <th>category</th>\n",
       "      <th>descript</th>\n",
       "      <th>pddistrict</th>\n",
       "      <th>resolution</th>\n",
       "      <th>address</th>\n",
       "      <th>x</th>\n",
       "      <th>y</th>\n",
       "      <th>year</th>\n",
       "      <th>month</th>\n",
       "      <th>day_of_month</th>\n",
       "      <th>day_of_week</th>\n",
       "      <th>hour</th>\n",
       "    </tr>\n",
       "  </thead>\n",
       "  <tbody>\n",
       "    <tr>\n",
       "      <th>0</th>\n",
       "      <td>WARRANTS</td>\n",
       "      <td>WARRANT ARREST</td>\n",
       "      <td>NORTHERN</td>\n",
       "      <td>ARREST, BOOKED</td>\n",
       "      <td>OAK ST / LAGUNA ST</td>\n",
       "      <td>-122.425892</td>\n",
       "      <td>37.774599</td>\n",
       "      <td>2015</td>\n",
       "      <td>5</td>\n",
       "      <td>13</td>\n",
       "      <td>2</td>\n",
       "      <td>23</td>\n",
       "    </tr>\n",
       "    <tr>\n",
       "      <th>1</th>\n",
       "      <td>OTHER OFFENSES</td>\n",
       "      <td>TRAFFIC VIOLATION ARREST</td>\n",
       "      <td>NORTHERN</td>\n",
       "      <td>ARREST, BOOKED</td>\n",
       "      <td>OAK ST / LAGUNA ST</td>\n",
       "      <td>-122.425892</td>\n",
       "      <td>37.774599</td>\n",
       "      <td>2015</td>\n",
       "      <td>5</td>\n",
       "      <td>13</td>\n",
       "      <td>2</td>\n",
       "      <td>23</td>\n",
       "    </tr>\n",
       "    <tr>\n",
       "      <th>2</th>\n",
       "      <td>OTHER OFFENSES</td>\n",
       "      <td>TRAFFIC VIOLATION ARREST</td>\n",
       "      <td>NORTHERN</td>\n",
       "      <td>ARREST, BOOKED</td>\n",
       "      <td>VANNESS AV / GREENWICH ST</td>\n",
       "      <td>-122.424363</td>\n",
       "      <td>37.800414</td>\n",
       "      <td>2015</td>\n",
       "      <td>5</td>\n",
       "      <td>13</td>\n",
       "      <td>2</td>\n",
       "      <td>23</td>\n",
       "    </tr>\n",
       "    <tr>\n",
       "      <th>3</th>\n",
       "      <td>LARCENY/THEFT</td>\n",
       "      <td>GRAND THEFT FROM LOCKED AUTO</td>\n",
       "      <td>NORTHERN</td>\n",
       "      <td>NONE</td>\n",
       "      <td>1500 Block of LOMBARD ST</td>\n",
       "      <td>-122.426995</td>\n",
       "      <td>37.800873</td>\n",
       "      <td>2015</td>\n",
       "      <td>5</td>\n",
       "      <td>13</td>\n",
       "      <td>2</td>\n",
       "      <td>23</td>\n",
       "    </tr>\n",
       "    <tr>\n",
       "      <th>4</th>\n",
       "      <td>LARCENY/THEFT</td>\n",
       "      <td>GRAND THEFT FROM LOCKED AUTO</td>\n",
       "      <td>PARK</td>\n",
       "      <td>NONE</td>\n",
       "      <td>100 Block of BRODERICK ST</td>\n",
       "      <td>-122.438738</td>\n",
       "      <td>37.771541</td>\n",
       "      <td>2015</td>\n",
       "      <td>5</td>\n",
       "      <td>13</td>\n",
       "      <td>2</td>\n",
       "      <td>23</td>\n",
       "    </tr>\n",
       "  </tbody>\n",
       "</table>\n",
       "</div>"
      ],
      "text/plain": [
       "         category                      descript pddistrict      resolution  \\\n",
       "0        WARRANTS                WARRANT ARREST   NORTHERN  ARREST, BOOKED   \n",
       "1  OTHER OFFENSES      TRAFFIC VIOLATION ARREST   NORTHERN  ARREST, BOOKED   \n",
       "2  OTHER OFFENSES      TRAFFIC VIOLATION ARREST   NORTHERN  ARREST, BOOKED   \n",
       "3   LARCENY/THEFT  GRAND THEFT FROM LOCKED AUTO   NORTHERN            NONE   \n",
       "4   LARCENY/THEFT  GRAND THEFT FROM LOCKED AUTO       PARK            NONE   \n",
       "\n",
       "                     address           x          y  year  month  \\\n",
       "0         OAK ST / LAGUNA ST -122.425892  37.774599  2015      5   \n",
       "1         OAK ST / LAGUNA ST -122.425892  37.774599  2015      5   \n",
       "2  VANNESS AV / GREENWICH ST -122.424363  37.800414  2015      5   \n",
       "3   1500 Block of LOMBARD ST -122.426995  37.800873  2015      5   \n",
       "4  100 Block of BRODERICK ST -122.438738  37.771541  2015      5   \n",
       "\n",
       "   day_of_month  day_of_week  hour  \n",
       "0            13            2    23  \n",
       "1            13            2    23  \n",
       "2            13            2    23  \n",
       "3            13            2    23  \n",
       "4            13            2    23  "
      ]
     },
     "execution_count": 27,
     "metadata": {},
     "output_type": "execute_result"
    }
   ],
   "source": [
    "df_train2 = df_train.iloc[ : 200, :]\n",
    "df_train2.head()"
   ]
  },
  {
   "cell_type": "code",
   "execution_count": 28,
   "id": "80c36b27-eec8-4485-8862-fa855739ce39",
   "metadata": {
    "tags": []
   },
   "outputs": [
    {
     "name": "stderr",
     "output_type": "stream",
     "text": [
      "C:\\Users\\noora\\AppData\\Local\\Temp\\ipykernel_8524\\115127614.py:3: SettingWithCopyWarning: \n",
      "A value is trying to be set on a copy of a slice from a DataFrame.\n",
      "Try using .loc[row_indexer,col_indexer] = value instead\n",
      "\n",
      "See the caveats in the documentation: https://pandas.pydata.org/pandas-docs/stable/user_guide/indexing.html#returning-a-view-versus-a-copy\n",
      "  df_train2['descript'] = df_train2['descript'].apply(lambda x :x if x in top200 else 'other' )\n"
     ]
    },
    {
     "data": {
      "text/html": [
       "<div>\n",
       "<style scoped>\n",
       "    .dataframe tbody tr th:only-of-type {\n",
       "        vertical-align: middle;\n",
       "    }\n",
       "\n",
       "    .dataframe tbody tr th {\n",
       "        vertical-align: top;\n",
       "    }\n",
       "\n",
       "    .dataframe thead th {\n",
       "        text-align: right;\n",
       "    }\n",
       "</style>\n",
       "<table border=\"1\" class=\"dataframe\">\n",
       "  <thead>\n",
       "    <tr style=\"text-align: right;\">\n",
       "      <th></th>\n",
       "      <th>descript</th>\n",
       "      <th>pddistrict</th>\n",
       "      <th>resolution</th>\n",
       "      <th>x</th>\n",
       "      <th>y</th>\n",
       "      <th>year</th>\n",
       "      <th>month</th>\n",
       "      <th>day_of_month</th>\n",
       "      <th>day_of_week</th>\n",
       "      <th>hour</th>\n",
       "    </tr>\n",
       "  </thead>\n",
       "  <tbody>\n",
       "    <tr>\n",
       "      <th>0</th>\n",
       "      <td>WARRANT ARREST</td>\n",
       "      <td>NORTHERN</td>\n",
       "      <td>ARREST, BOOKED</td>\n",
       "      <td>-122.425892</td>\n",
       "      <td>37.774599</td>\n",
       "      <td>2015</td>\n",
       "      <td>5</td>\n",
       "      <td>13</td>\n",
       "      <td>2</td>\n",
       "      <td>23</td>\n",
       "    </tr>\n",
       "    <tr>\n",
       "      <th>1</th>\n",
       "      <td>TRAFFIC VIOLATION ARREST</td>\n",
       "      <td>NORTHERN</td>\n",
       "      <td>ARREST, BOOKED</td>\n",
       "      <td>-122.425892</td>\n",
       "      <td>37.774599</td>\n",
       "      <td>2015</td>\n",
       "      <td>5</td>\n",
       "      <td>13</td>\n",
       "      <td>2</td>\n",
       "      <td>23</td>\n",
       "    </tr>\n",
       "    <tr>\n",
       "      <th>2</th>\n",
       "      <td>TRAFFIC VIOLATION ARREST</td>\n",
       "      <td>NORTHERN</td>\n",
       "      <td>ARREST, BOOKED</td>\n",
       "      <td>-122.424363</td>\n",
       "      <td>37.800414</td>\n",
       "      <td>2015</td>\n",
       "      <td>5</td>\n",
       "      <td>13</td>\n",
       "      <td>2</td>\n",
       "      <td>23</td>\n",
       "    </tr>\n",
       "    <tr>\n",
       "      <th>3</th>\n",
       "      <td>GRAND THEFT FROM LOCKED AUTO</td>\n",
       "      <td>NORTHERN</td>\n",
       "      <td>NONE</td>\n",
       "      <td>-122.426995</td>\n",
       "      <td>37.800873</td>\n",
       "      <td>2015</td>\n",
       "      <td>5</td>\n",
       "      <td>13</td>\n",
       "      <td>2</td>\n",
       "      <td>23</td>\n",
       "    </tr>\n",
       "    <tr>\n",
       "      <th>4</th>\n",
       "      <td>GRAND THEFT FROM LOCKED AUTO</td>\n",
       "      <td>PARK</td>\n",
       "      <td>NONE</td>\n",
       "      <td>-122.438738</td>\n",
       "      <td>37.771541</td>\n",
       "      <td>2015</td>\n",
       "      <td>5</td>\n",
       "      <td>13</td>\n",
       "      <td>2</td>\n",
       "      <td>23</td>\n",
       "    </tr>\n",
       "  </tbody>\n",
       "</table>\n",
       "</div>"
      ],
      "text/plain": [
       "                       descript pddistrict      resolution           x  \\\n",
       "0                WARRANT ARREST   NORTHERN  ARREST, BOOKED -122.425892   \n",
       "1      TRAFFIC VIOLATION ARREST   NORTHERN  ARREST, BOOKED -122.425892   \n",
       "2      TRAFFIC VIOLATION ARREST   NORTHERN  ARREST, BOOKED -122.424363   \n",
       "3  GRAND THEFT FROM LOCKED AUTO   NORTHERN            NONE -122.426995   \n",
       "4  GRAND THEFT FROM LOCKED AUTO       PARK            NONE -122.438738   \n",
       "\n",
       "           y  year  month  day_of_month  day_of_week  hour  \n",
       "0  37.774599  2015      5            13            2    23  \n",
       "1  37.774599  2015      5            13            2    23  \n",
       "2  37.800414  2015      5            13            2    23  \n",
       "3  37.800873  2015      5            13            2    23  \n",
       "4  37.771541  2015      5            13            2    23  "
      ]
     },
     "execution_count": 28,
     "metadata": {},
     "output_type": "execute_result"
    }
   ],
   "source": [
    "# Variable Encoding\n",
    "top200 = df_train['descript'].value_counts()[:200].index\n",
    "df_train2['descript'] = df_train2['descript'].apply(lambda x :x if x in top200 else 'other' )\n",
    "x = df_train2.drop(['category', 'address'], axis = 1)\n",
    "y = df_train2['category']\n",
    "x.head()"
   ]
  },
  {
   "cell_type": "code",
   "execution_count": 29,
   "id": "19fe5e2a-5441-4d78-bfd0-77675f6f0f2e",
   "metadata": {
    "tags": []
   },
   "outputs": [
    {
     "data": {
      "text/plain": [
       "((200, 10), (200,))"
      ]
     },
     "execution_count": 29,
     "metadata": {},
     "output_type": "execute_result"
    }
   ],
   "source": [
    "x.shape, y.shape"
   ]
  },
  {
   "cell_type": "code",
   "execution_count": 85,
   "id": "6b62b26c-94f3-4972-b383-97d8ce784d39",
   "metadata": {
    "tags": []
   },
   "outputs": [
    {
     "data": {
      "text/html": [
       "<div>\n",
       "<style scoped>\n",
       "    .dataframe tbody tr th:only-of-type {\n",
       "        vertical-align: middle;\n",
       "    }\n",
       "\n",
       "    .dataframe tbody tr th {\n",
       "        vertical-align: top;\n",
       "    }\n",
       "\n",
       "    .dataframe thead th {\n",
       "        text-align: right;\n",
       "    }\n",
       "</style>\n",
       "<table border=\"1\" class=\"dataframe\">\n",
       "  <thead>\n",
       "    <tr style=\"text-align: right;\">\n",
       "      <th></th>\n",
       "      <th>descript</th>\n",
       "      <th>pddistrict</th>\n",
       "      <th>resolution</th>\n",
       "      <th>x</th>\n",
       "      <th>y</th>\n",
       "      <th>year</th>\n",
       "      <th>month</th>\n",
       "      <th>day_of_month</th>\n",
       "      <th>day_of_week</th>\n",
       "      <th>hour</th>\n",
       "    </tr>\n",
       "  </thead>\n",
       "  <tbody>\n",
       "    <tr>\n",
       "      <th>0</th>\n",
       "      <td>65</td>\n",
       "      <td>4</td>\n",
       "      <td>0</td>\n",
       "      <td>-122.425892</td>\n",
       "      <td>37.774599</td>\n",
       "      <td>2015</td>\n",
       "      <td>5</td>\n",
       "      <td>13</td>\n",
       "      <td>2</td>\n",
       "      <td>23</td>\n",
       "    </tr>\n",
       "    <tr>\n",
       "      <th>1</th>\n",
       "      <td>60</td>\n",
       "      <td>4</td>\n",
       "      <td>0</td>\n",
       "      <td>-122.425892</td>\n",
       "      <td>37.774599</td>\n",
       "      <td>2015</td>\n",
       "      <td>5</td>\n",
       "      <td>13</td>\n",
       "      <td>2</td>\n",
       "      <td>23</td>\n",
       "    </tr>\n",
       "    <tr>\n",
       "      <th>2</th>\n",
       "      <td>60</td>\n",
       "      <td>4</td>\n",
       "      <td>0</td>\n",
       "      <td>-122.424363</td>\n",
       "      <td>37.800414</td>\n",
       "      <td>2015</td>\n",
       "      <td>5</td>\n",
       "      <td>13</td>\n",
       "      <td>2</td>\n",
       "      <td>23</td>\n",
       "    </tr>\n",
       "    <tr>\n",
       "      <th>3</th>\n",
       "      <td>24</td>\n",
       "      <td>4</td>\n",
       "      <td>3</td>\n",
       "      <td>-122.426995</td>\n",
       "      <td>37.800873</td>\n",
       "      <td>2015</td>\n",
       "      <td>5</td>\n",
       "      <td>13</td>\n",
       "      <td>2</td>\n",
       "      <td>23</td>\n",
       "    </tr>\n",
       "    <tr>\n",
       "      <th>4</th>\n",
       "      <td>24</td>\n",
       "      <td>5</td>\n",
       "      <td>3</td>\n",
       "      <td>-122.438738</td>\n",
       "      <td>37.771541</td>\n",
       "      <td>2015</td>\n",
       "      <td>5</td>\n",
       "      <td>13</td>\n",
       "      <td>2</td>\n",
       "      <td>23</td>\n",
       "    </tr>\n",
       "  </tbody>\n",
       "</table>\n",
       "</div>"
      ],
      "text/plain": [
       "   descript  pddistrict  resolution           x          y  year  month  \\\n",
       "0        65           4           0 -122.425892  37.774599  2015      5   \n",
       "1        60           4           0 -122.425892  37.774599  2015      5   \n",
       "2        60           4           0 -122.424363  37.800414  2015      5   \n",
       "3        24           4           3 -122.426995  37.800873  2015      5   \n",
       "4        24           5           3 -122.438738  37.771541  2015      5   \n",
       "\n",
       "   day_of_month  day_of_week  hour  \n",
       "0            13            2    23  \n",
       "1            13            2    23  \n",
       "2            13            2    23  \n",
       "3            13            2    23  \n",
       "4            13            2    23  "
      ]
     },
     "execution_count": 85,
     "metadata": {},
     "output_type": "execute_result"
    }
   ],
   "source": [
    "le = LabelEncoder()\n",
    "y = le.fit_transform(y)\n",
    "\n",
    "x['descript'] = le.fit_transform(x['descript'])\n",
    "x['pddistrict'] = le.fit_transform(x['pddistrict'])\n",
    "x['resolution'] = le.fit_transform(x['resolution'])\n",
    "x.head()"
   ]
  },
  {
   "cell_type": "code",
   "execution_count": 21,
   "id": "fdbdb87d-353e-4058-ae2f-da8598f7eeda",
   "metadata": {
    "tags": []
   },
   "outputs": [],
   "source": [
    "#y.head()"
   ]
  },
  {
   "cell_type": "code",
   "execution_count": 86,
   "id": "60689dc0-eb23-4f4a-b7db-24520afe9db4",
   "metadata": {
    "tags": []
   },
   "outputs": [
    {
     "name": "stdout",
     "output_type": "stream",
     "text": [
      "x train : (170, 10) \t\tx test : (30, 10)\n",
      "y train : (170,) \t\ty test : (30,)\n"
     ]
    }
   ],
   "source": [
    "x_train, x_test, y_train, y_test = train_test_split(x, y, test_size = 0.15, random_state = 1)\n",
    "print('x train :', x_train.shape,'\\t\\tx test :', x_test.shape)\n",
    "print('y train :', y_train.shape,'\\t\\ty test :', y_test.shape)"
   ]
  },
  {
   "cell_type": "code",
   "execution_count": 88,
   "id": "09eca393-96ac-4a82-80a8-cf88390a3ddd",
   "metadata": {
    "tags": []
   },
   "outputs": [],
   "source": [
    "mms = MinMaxScaler()\n",
    "x_train = mms.fit_transform(x_train)\n",
    "x_test = mms.transform(x_test)"
   ]
  },
  {
   "cell_type": "code",
   "execution_count": 89,
   "id": "73ed9f15-ad28-4007-bcfb-c841395e8a1c",
   "metadata": {
    "tags": []
   },
   "outputs": [
    {
     "data": {
      "text/plain": [
       "17"
      ]
     },
     "execution_count": 89,
     "metadata": {},
     "output_type": "execute_result"
    }
   ],
   "source": [
    "sc = StandardScaler()\n",
    "x_train = sc.fit_transform(x_train)\n",
    "x_test = sc.transform(x_test)\n",
    "\n",
    "len(np.unique(y_test))\n",
    "len(np.unique(y_train))"
   ]
  },
  {
   "cell_type": "code",
   "execution_count": 90,
   "id": "74f6509c-634d-485e-b595-33ae9af4e498",
   "metadata": {
    "tags": []
   },
   "outputs": [],
   "source": [
    "#Train your model\n",
    "dtrain = xgb.DMatrix(x_train, label=y_train, enable_categorical=True)\n",
    "dtest = xgb.DMatrix(x_test, label=y_test, enable_categorical=True)\n",
    "\n",
    "# Set the XGBoost parameters\n",
    "params = {\n",
    "    'objective': 'multi:softmax',\n",
    "    'num_class': 39,\n",
    "    'max_depth': 3,\n",
    "    'eta': 0.1\n",
    "}\n",
    "\n",
    "# Train the XGBoost model\n",
    "num_rounds = 100\n",
    "xgb_model = xgb.train(params, dtrain, num_rounds)"
   ]
  },
  {
   "cell_type": "code",
   "execution_count": 91,
   "id": "2e9d9963-86bb-4bb0-bcc7-27b28b473320",
   "metadata": {
    "tags": []
   },
   "outputs": [
    {
     "name": "stdout",
     "output_type": "stream",
     "text": [
      "Accuracy: 0.6\n"
     ]
    }
   ],
   "source": [
    "# Make predictions on the testing data\n",
    "y_pred = xgb_model.predict(dtest)\n",
    "\n",
    "# Calculate the accuracy of the model\n",
    "accuracy = accuracy_score(y_test, y_pred)\n",
    "print(f'Accuracy: {accuracy}')"
   ]
  },
  {
   "cell_type": "code",
   "execution_count": 74,
   "id": "c957df02-8e6d-41fa-8d22-b494e1ba18db",
   "metadata": {
    "tags": []
   },
   "outputs": [],
   "source": [
    "from sklearn.metrics import accuracy_score, confusion_matrix, classification_report, roc_curve, auc, cohen_kappa_score, log_loss\n",
    "import matplotlib.pyplot as plt"
   ]
  },
  {
   "cell_type": "code",
   "execution_count": 95,
   "id": "a3a03e93-e361-4a0d-abc7-1e2c28dba441",
   "metadata": {
    "tags": []
   },
   "outputs": [
    {
     "name": "stderr",
     "output_type": "stream",
     "text": [
      "C:\\Users\\noora\\AppData\\Local\\Temp\\ipykernel_8524\\522463565.py:7: SettingWithCopyWarning: \n",
      "A value is trying to be set on a copy of a slice from a DataFrame.\n",
      "Try using .loc[row_indexer,col_indexer] = value instead\n",
      "\n",
      "See the caveats in the documentation: https://pandas.pydata.org/pandas-docs/stable/user_guide/indexing.html#returning-a-view-versus-a-copy\n",
      "  X_examine['PdDistrict'] = le2.fit_transform(X_examine['PdDistrict'])\n",
      "C:\\Users\\noora\\AppData\\Local\\Temp\\ipykernel_8524\\522463565.py:8: SettingWithCopyWarning: \n",
      "A value is trying to be set on a copy of a slice from a DataFrame.\n",
      "Try using .loc[row_indexer,col_indexer] = value instead\n",
      "\n",
      "See the caveats in the documentation: https://pandas.pydata.org/pandas-docs/stable/user_guide/indexing.html#returning-a-view-versus-a-copy\n",
      "  X_examine['DayOfWeek'] = le2.fit_transform(X_examine['DayOfWeek'])\n",
      "C:\\Users\\noora\\AppData\\Local\\Temp\\ipykernel_8524\\522463565.py:9: SettingWithCopyWarning: \n",
      "A value is trying to be set on a copy of a slice from a DataFrame.\n",
      "Try using .loc[row_indexer,col_indexer] = value instead\n",
      "\n",
      "See the caveats in the documentation: https://pandas.pydata.org/pandas-docs/stable/user_guide/indexing.html#returning-a-view-versus-a-copy\n",
      "  X_examine['Address'] = le2.fit_transform(X_examine['Address'])\n",
      "C:\\Users\\noora\\AppData\\Local\\Temp\\ipykernel_8524\\522463565.py:10: SettingWithCopyWarning: \n",
      "A value is trying to be set on a copy of a slice from a DataFrame.\n",
      "Try using .loc[row_indexer,col_indexer] = value instead\n",
      "\n",
      "See the caveats in the documentation: https://pandas.pydata.org/pandas-docs/stable/user_guide/indexing.html#returning-a-view-versus-a-copy\n",
      "  X_examine['Address'] = le2.fit_transform(X_examine['Address'])\n",
      "C:\\Users\\noora\\AppData\\Local\\Temp\\ipykernel_8524\\522463565.py:13: SettingWithCopyWarning: \n",
      "A value is trying to be set on a copy of a slice from a DataFrame.\n",
      "Try using .loc[row_indexer,col_indexer] = value instead\n",
      "\n",
      "See the caveats in the documentation: https://pandas.pydata.org/pandas-docs/stable/user_guide/indexing.html#returning-a-view-versus-a-copy\n",
      "  X_examine['Dates'] = pd.to_datetime(X_examine['Dates'])\n",
      "C:\\Users\\noora\\AppData\\Local\\Temp\\ipykernel_8524\\522463565.py:14: SettingWithCopyWarning: \n",
      "A value is trying to be set on a copy of a slice from a DataFrame.\n",
      "Try using .loc[row_indexer,col_indexer] = value instead\n",
      "\n",
      "See the caveats in the documentation: https://pandas.pydata.org/pandas-docs/stable/user_guide/indexing.html#returning-a-view-versus-a-copy\n",
      "  X_examine['year'] = X_examine['Dates'].dt.year\n",
      "C:\\Users\\noora\\AppData\\Local\\Temp\\ipykernel_8524\\522463565.py:15: SettingWithCopyWarning: \n",
      "A value is trying to be set on a copy of a slice from a DataFrame.\n",
      "Try using .loc[row_indexer,col_indexer] = value instead\n",
      "\n",
      "See the caveats in the documentation: https://pandas.pydata.org/pandas-docs/stable/user_guide/indexing.html#returning-a-view-versus-a-copy\n",
      "  X_examine['month'] = X_examine['Dates'].dt.month\n",
      "C:\\Users\\noora\\AppData\\Local\\Temp\\ipykernel_8524\\522463565.py:16: SettingWithCopyWarning: \n",
      "A value is trying to be set on a copy of a slice from a DataFrame.\n",
      "Try using .loc[row_indexer,col_indexer] = value instead\n",
      "\n",
      "See the caveats in the documentation: https://pandas.pydata.org/pandas-docs/stable/user_guide/indexing.html#returning-a-view-versus-a-copy\n",
      "  X_examine['day_of_month'] = X_examine['Dates'].dt.day\n",
      "C:\\Users\\noora\\AppData\\Local\\Temp\\ipykernel_8524\\522463565.py:17: SettingWithCopyWarning: \n",
      "A value is trying to be set on a copy of a slice from a DataFrame.\n",
      "Try using .loc[row_indexer,col_indexer] = value instead\n",
      "\n",
      "See the caveats in the documentation: https://pandas.pydata.org/pandas-docs/stable/user_guide/indexing.html#returning-a-view-versus-a-copy\n",
      "  X_examine['day_of_week'] = X_examine['Dates'].dt.day_of_week\n",
      "C:\\Users\\noora\\AppData\\Local\\Temp\\ipykernel_8524\\522463565.py:18: SettingWithCopyWarning: \n",
      "A value is trying to be set on a copy of a slice from a DataFrame.\n",
      "Try using .loc[row_indexer,col_indexer] = value instead\n",
      "\n",
      "See the caveats in the documentation: https://pandas.pydata.org/pandas-docs/stable/user_guide/indexing.html#returning-a-view-versus-a-copy\n",
      "  X_examine['hour'] = X_examine['Dates'].dt.hour\n"
     ]
    }
   ],
   "source": [
    "test_data  = pd.read_csv('test.csv',index_col=0)\n",
    "test_data2 = test_data.iloc[: 50000, :] \n",
    "# test_data['RANDOM'] = np.random.normal(size=len(test_data))\n",
    "X_examine = test_data2\n",
    "\n",
    "le2 = LabelEncoder()\n",
    "X_examine['PdDistrict'] = le2.fit_transform(X_examine['PdDistrict'])\n",
    "X_examine['DayOfWeek'] = le2.fit_transform(X_examine['DayOfWeek'])\n",
    "X_examine['Address'] = le2.fit_transform(X_examine['Address'])\n",
    "X_examine['Address'] = le2.fit_transform(X_examine['Address'])\n",
    "\n",
    "\n",
    "X_examine['Dates'] = pd.to_datetime(X_examine['Dates'])\n",
    "X_examine['year'] = X_examine['Dates'].dt.year\n",
    "X_examine['month'] = X_examine['Dates'].dt.month\n",
    "X_examine['day_of_month'] = X_examine['Dates'].dt.day\n",
    "X_examine['day_of_week'] = X_examine['Dates'].dt.day_of_week\n",
    "X_examine['hour'] = X_examine['Dates'].dt.hour\n",
    "\n",
    "X_examine = X_examine.drop([\"Dates\"], axis=1)\n",
    "\n",
    "X_examine = X_examine.fillna(X_examine.mean())\n",
    "\n",
    "X_examine.head()\n",
    "\n",
    "submission = xgb_model.predict(xgb.DMatrix(X_examine.values))\n",
    "\n",
    "pd.DataFrame({\"Id\":X_examine.index, \"category\":submission}).to_csv(\"submission-san-francisco.csv\", index=False)"
   ]
  },
  {
   "cell_type": "code",
   "execution_count": null,
   "id": "661202c3-24f4-44df-b67e-65e99488bfec",
   "metadata": {},
   "outputs": [],
   "source": []
  }
 ],
 "metadata": {
  "kernelspec": {
   "display_name": "Python 3 (ipykernel)",
   "language": "python",
   "name": "python3"
  },
  "language_info": {
   "codemirror_mode": {
    "name": "ipython",
    "version": 3
   },
   "file_extension": ".py",
   "mimetype": "text/x-python",
   "name": "python",
   "nbconvert_exporter": "python",
   "pygments_lexer": "ipython3",
   "version": "3.11.3"
  }
 },
 "nbformat": 4,
 "nbformat_minor": 5
}
